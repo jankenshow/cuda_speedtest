{
 "cells": [
  {
   "cell_type": "code",
   "execution_count": 1,
   "metadata": {},
   "outputs": [],
   "source": [
    "import time\n",
    "import numpy as np\n",
    "import numba as nb"
   ]
  },
  {
   "cell_type": "code",
   "execution_count": 2,
   "metadata": {},
   "outputs": [],
   "source": [
    "sizes = [256, 1024, 4096]\n",
    "iterations = 10"
   ]
  },
  {
   "cell_type": "markdown",
   "metadata": {},
   "source": [
    "## pythonでの行列積速度"
   ]
  },
  {
   "cell_type": "code",
   "execution_count": 3,
   "metadata": {},
   "outputs": [],
   "source": [
    "def matmul(x, y):\n",
    "    out = []\n",
    "    for i in range(len(x)):\n",
    "        out_row = []\n",
    "        for j in range(len(y[0])):\n",
    "            out_elem = 0\n",
    "            for k in range(len(x[0])):\n",
    "                out_elem += x[i][k] * y[k][j]\n",
    "            out_row.append(out_elem)\n",
    "        out.append(out_row)\n",
    "    return out"
   ]
  },
  {
   "cell_type": "code",
   "execution_count": 5,
   "metadata": {},
   "outputs": [
    {
     "name": "stdout",
     "output_type": "stream",
     "text": [
      "行列サイズ = 256\n",
      "処理時間 = 1.4835143089294434\n",
      "行列サイズ = 1024\n",
      "処理時間 = 113.07175493240356\n"
     ]
    }
   ],
   "source": [
    "for size in sizes:\n",
    "    x = np.random.randn(size, size).astype(np.float32).tolist()\n",
    "    y = np.random.randn(size, size).astype(np.float32).tolist()\n",
    "\n",
    "    d_sec = 0\n",
    "    for i in range(iterations):\n",
    "        start = time.time()\n",
    "        res = matmul(x, y)\n",
    "        end = time.time()\n",
    "        d_sec += (end - start)\n",
    "\n",
    "    d_sec /= iterations\n",
    "    print(f\"行列サイズ = {size}\")\n",
    "    print(f\"処理時間 = {d_sec}\")"
   ]
  },
  {
   "cell_type": "code",
   "execution_count": 7,
   "metadata": {},
   "outputs": [
    {
     "name": "stdout",
     "output_type": "stream",
     "text": [
      "行列サイズ = 256\n",
      "処理時間 = 6.547226977348328\n"
     ]
    },
    {
     "ename": "KeyboardInterrupt",
     "evalue": "",
     "output_type": "error",
     "traceback": [
      "\u001b[0;31m---------------------------------------------------------------------------\u001b[0m",
      "\u001b[0;31mKeyboardInterrupt\u001b[0m                         Traceback (most recent call last)",
      "\u001b[1;32m/home/kensho/workspace/practice/cuda/speedtest/matmul/matmul_on_cpu.ipynb Cell 6'\u001b[0m in \u001b[0;36m<module>\u001b[0;34m\u001b[0m\n\u001b[1;32m      <a href='vscode-notebook-cell://ssh-remote%2Bku/home/kensho/workspace/practice/cuda/speedtest/matmul/matmul_on_cpu.ipynb#ch0000014vscode-remote?line=5'>6</a>\u001b[0m \u001b[39mfor\u001b[39;00m i \u001b[39min\u001b[39;00m \u001b[39mrange\u001b[39m(iterations):\n\u001b[1;32m      <a href='vscode-notebook-cell://ssh-remote%2Bku/home/kensho/workspace/practice/cuda/speedtest/matmul/matmul_on_cpu.ipynb#ch0000014vscode-remote?line=6'>7</a>\u001b[0m     start \u001b[39m=\u001b[39m time\u001b[39m.\u001b[39mtime()\n\u001b[0;32m----> <a href='vscode-notebook-cell://ssh-remote%2Bku/home/kensho/workspace/practice/cuda/speedtest/matmul/matmul_on_cpu.ipynb#ch0000014vscode-remote?line=7'>8</a>\u001b[0m     res \u001b[39m=\u001b[39m matmul(x, y)\n\u001b[1;32m      <a href='vscode-notebook-cell://ssh-remote%2Bku/home/kensho/workspace/practice/cuda/speedtest/matmul/matmul_on_cpu.ipynb#ch0000014vscode-remote?line=8'>9</a>\u001b[0m     end \u001b[39m=\u001b[39m time\u001b[39m.\u001b[39mtime()\n\u001b[1;32m     <a href='vscode-notebook-cell://ssh-remote%2Bku/home/kensho/workspace/practice/cuda/speedtest/matmul/matmul_on_cpu.ipynb#ch0000014vscode-remote?line=9'>10</a>\u001b[0m     d_sec \u001b[39m+\u001b[39m\u001b[39m=\u001b[39m (end \u001b[39m-\u001b[39m start)\n",
      "\u001b[1;32m/home/kensho/workspace/practice/cuda/speedtest/matmul/matmul_on_cpu.ipynb Cell 4'\u001b[0m in \u001b[0;36mmatmul\u001b[0;34m(x, y)\u001b[0m\n\u001b[1;32m      <a href='vscode-notebook-cell://ssh-remote%2Bku/home/kensho/workspace/practice/cuda/speedtest/matmul/matmul_on_cpu.ipynb#ch0000003vscode-remote?line=5'>6</a>\u001b[0m     out_elem \u001b[39m=\u001b[39m \u001b[39m0\u001b[39m\n\u001b[1;32m      <a href='vscode-notebook-cell://ssh-remote%2Bku/home/kensho/workspace/practice/cuda/speedtest/matmul/matmul_on_cpu.ipynb#ch0000003vscode-remote?line=6'>7</a>\u001b[0m     \u001b[39mfor\u001b[39;00m k \u001b[39min\u001b[39;00m \u001b[39mrange\u001b[39m(\u001b[39mlen\u001b[39m(x[\u001b[39m0\u001b[39m])):\n\u001b[0;32m----> <a href='vscode-notebook-cell://ssh-remote%2Bku/home/kensho/workspace/practice/cuda/speedtest/matmul/matmul_on_cpu.ipynb#ch0000003vscode-remote?line=7'>8</a>\u001b[0m         out_elem \u001b[39m+\u001b[39m\u001b[39m=\u001b[39m x[i][k] \u001b[39m*\u001b[39m y[k][j]\n\u001b[1;32m      <a href='vscode-notebook-cell://ssh-remote%2Bku/home/kensho/workspace/practice/cuda/speedtest/matmul/matmul_on_cpu.ipynb#ch0000003vscode-remote?line=8'>9</a>\u001b[0m     out_row\u001b[39m.\u001b[39mappend(out_elem)\n\u001b[1;32m     <a href='vscode-notebook-cell://ssh-remote%2Bku/home/kensho/workspace/practice/cuda/speedtest/matmul/matmul_on_cpu.ipynb#ch0000003vscode-remote?line=9'>10</a>\u001b[0m out\u001b[39m.\u001b[39mappend(out_row)\n",
      "\u001b[0;31mKeyboardInterrupt\u001b[0m: "
     ]
    }
   ],
   "source": [
    "for size in sizes:\n",
    "    x = np.random.randn(size, size).astype(np.float32)\n",
    "    y = np.random.randn(size, size).astype(np.float32)\n",
    "\n",
    "    d_sec = 0\n",
    "    for i in range(iterations):\n",
    "        start = time.time()\n",
    "        res = matmul(x, y)\n",
    "        end = time.time()\n",
    "        d_sec += (end - start)\n",
    "\n",
    "    d_sec /= iterations\n",
    "    print(f\"行列サイズ = {size}\")\n",
    "    print(f\"処理時間 = {d_sec}\")"
   ]
  },
  {
   "cell_type": "markdown",
   "metadata": {},
   "source": [
    "## numpy (intel MKL)での行列積速度"
   ]
  },
  {
   "cell_type": "code",
   "execution_count": 4,
   "metadata": {},
   "outputs": [
    {
     "name": "stdout",
     "output_type": "stream",
     "text": [
      "blas_mkl_info:\n",
      "    libraries = ['mkl_rt', 'pthread']\n",
      "    library_dirs = ['/opt/intel/mkl/lib/intel64']\n",
      "    define_macros = [('SCIPY_MKL_H', None), ('HAVE_CBLAS', None)]\n",
      "    include_dirs = ['/opt/intel/mkl/include']\n",
      "blas_opt_info:\n",
      "    libraries = ['mkl_rt', 'pthread']\n",
      "    library_dirs = ['/opt/intel/mkl/lib/intel64']\n",
      "    define_macros = [('SCIPY_MKL_H', None), ('HAVE_CBLAS', None)]\n",
      "    include_dirs = ['/opt/intel/mkl/include']\n",
      "lapack_mkl_info:\n",
      "    libraries = ['mkl_rt', 'pthread']\n",
      "    library_dirs = ['/opt/intel/mkl/lib/intel64']\n",
      "    define_macros = [('SCIPY_MKL_H', None), ('HAVE_CBLAS', None)]\n",
      "    include_dirs = ['/opt/intel/mkl/include']\n",
      "lapack_opt_info:\n",
      "    libraries = ['mkl_rt', 'pthread']\n",
      "    library_dirs = ['/opt/intel/mkl/lib/intel64']\n",
      "    define_macros = [('SCIPY_MKL_H', None), ('HAVE_CBLAS', None)]\n",
      "    include_dirs = ['/opt/intel/mkl/include']\n",
      "Supported SIMD extensions in this NumPy install:\n",
      "    baseline = SSE,SSE2,SSE3\n",
      "    found = SSSE3,SSE41,POPCNT,SSE42,AVX,F16C,FMA3,AVX2\n",
      "    not found = AVX512F,AVX512CD,AVX512_KNL,AVX512_KNM,AVX512_SKX,AVX512_CNL\n"
     ]
    }
   ],
   "source": [
    "np.show_config()"
   ]
  },
  {
   "cell_type": "code",
   "execution_count": 6,
   "metadata": {},
   "outputs": [
    {
     "name": "stdout",
     "output_type": "stream",
     "text": [
      "行列サイズ = 256\n",
      "処理時間 = 0.0029145956039428713\n",
      "行列サイズ = 1024\n",
      "処理時間 = 0.002947068214416504\n",
      "行列サイズ = 4096\n",
      "処理時間 = 0.1760018825531006\n"
     ]
    }
   ],
   "source": [
    "for size in sizes:\n",
    "    x = np.random.randn(size, size).astype(np.float32)\n",
    "    y = np.random.randn(size, size).astype(np.float32)\n",
    "\n",
    "    d_sec = 0\n",
    "    for i in range(iterations):\n",
    "        start = time.time()\n",
    "        res = np.dot(x, y)\n",
    "        end = time.time()\n",
    "        d_sec += (end - start)\n",
    "\n",
    "    d_sec /= iterations\n",
    "    print(f\"行列サイズ = {size}\")\n",
    "    print(f\"処理時間 = {d_sec}\")\n"
   ]
  },
  {
   "cell_type": "markdown",
   "metadata": {},
   "source": [
    "## numba (jit)"
   ]
  },
  {
   "cell_type": "code",
   "execution_count": 8,
   "metadata": {},
   "outputs": [],
   "source": [
    "matmul_njit = nb.njit(matmul)"
   ]
  },
  {
   "cell_type": "code",
   "execution_count": 10,
   "metadata": {},
   "outputs": [
    {
     "name": "stdout",
     "output_type": "stream",
     "text": [
      "行列サイズ = 256\n",
      "処理時間 = 0.014850306510925292\n",
      "行列サイズ = 1024\n",
      "処理時間 = 1.31300847530365\n",
      "行列サイズ = 4096\n",
      "処理時間 = 405.71670775413514\n"
     ]
    }
   ],
   "source": [
    "for size in sizes:\n",
    "    x = np.random.randn(size, size).astype(np.float32)\n",
    "    y = np.random.randn(size, size).astype(np.float32)\n",
    "\n",
    "    ## warmup\n",
    "    matmul_njit(x, y)\n",
    "\n",
    "    d_sec = 0\n",
    "    for i in range(iterations):\n",
    "        start = time.time()\n",
    "        res = matmul_njit(x, y)\n",
    "        end = time.time()\n",
    "        d_sec += (end - start)\n",
    "\n",
    "    d_sec /= iterations\n",
    "    print(f\"行列サイズ = {size}\")\n",
    "    print(f\"処理時間 = {d_sec}\")"
   ]
  },
  {
   "cell_type": "markdown",
   "metadata": {},
   "source": [
    "## numpy (openblas)での行列積速度"
   ]
  },
  {
   "cell_type": "code",
   "execution_count": 1,
   "metadata": {},
   "outputs": [],
   "source": [
    "import time\n",
    "import numpy as np"
   ]
  },
  {
   "cell_type": "code",
   "execution_count": 4,
   "metadata": {},
   "outputs": [],
   "source": [
    "sizes = [256, 1024, 4096]\n",
    "iterations = 10"
   ]
  },
  {
   "cell_type": "code",
   "execution_count": 2,
   "metadata": {},
   "outputs": [
    {
     "name": "stdout",
     "output_type": "stream",
     "text": [
      "openblas64__info:\n",
      "    libraries = ['openblas64_', 'openblas64_']\n",
      "    library_dirs = ['/usr/local/lib']\n",
      "    language = c\n",
      "    define_macros = [('HAVE_CBLAS', None), ('BLAS_SYMBOL_SUFFIX', '64_'), ('HAVE_BLAS_ILP64', None)]\n",
      "    runtime_library_dirs = ['/usr/local/lib']\n",
      "blas_ilp64_opt_info:\n",
      "    libraries = ['openblas64_', 'openblas64_']\n",
      "    library_dirs = ['/usr/local/lib']\n",
      "    language = c\n",
      "    define_macros = [('HAVE_CBLAS', None), ('BLAS_SYMBOL_SUFFIX', '64_'), ('HAVE_BLAS_ILP64', None)]\n",
      "    runtime_library_dirs = ['/usr/local/lib']\n",
      "openblas64__lapack_info:\n",
      "    libraries = ['openblas64_', 'openblas64_']\n",
      "    library_dirs = ['/usr/local/lib']\n",
      "    language = c\n",
      "    define_macros = [('HAVE_CBLAS', None), ('BLAS_SYMBOL_SUFFIX', '64_'), ('HAVE_BLAS_ILP64', None), ('HAVE_LAPACKE', None)]\n",
      "    runtime_library_dirs = ['/usr/local/lib']\n",
      "lapack_ilp64_opt_info:\n",
      "    libraries = ['openblas64_', 'openblas64_']\n",
      "    library_dirs = ['/usr/local/lib']\n",
      "    language = c\n",
      "    define_macros = [('HAVE_CBLAS', None), ('BLAS_SYMBOL_SUFFIX', '64_'), ('HAVE_BLAS_ILP64', None), ('HAVE_LAPACKE', None)]\n",
      "    runtime_library_dirs = ['/usr/local/lib']\n",
      "Supported SIMD extensions in this NumPy install:\n",
      "    baseline = SSE,SSE2,SSE3\n",
      "    found = SSSE3,SSE41,POPCNT,SSE42,AVX,F16C,FMA3,AVX2\n",
      "    not found = AVX512F,AVX512CD,AVX512_KNL,AVX512_KNM,AVX512_SKX,AVX512_CLX,AVX512_CNL,AVX512_ICL\n"
     ]
    }
   ],
   "source": [
    "np.show_config()"
   ]
  },
  {
   "cell_type": "code",
   "execution_count": 6,
   "metadata": {},
   "outputs": [
    {
     "name": "stdout",
     "output_type": "stream",
     "text": [
      "行列サイズ = 256\n",
      "処理時間 = 0.0001068115234375\n",
      "行列サイズ = 1024\n",
      "処理時間 = 0.0025608062744140623\n",
      "行列サイズ = 4096\n",
      "処理時間 = 0.14603085517883302\n"
     ]
    }
   ],
   "source": [
    "for size in sizes:\n",
    "    x = np.random.randn(size, size).astype(np.float32)\n",
    "    y = np.random.randn(size, size).astype(np.float32)\n",
    "\n",
    "    d_sec = 0\n",
    "    for i in range(iterations):\n",
    "        start = time.time()\n",
    "        res = np.dot(x, y)\n",
    "        end = time.time()\n",
    "        d_sec += (end - start)\n",
    "\n",
    "    d_sec /= iterations\n",
    "    print(f\"行列サイズ = {size}\")\n",
    "    print(f\"処理時間 = {d_sec}\")"
   ]
  },
  {
   "cell_type": "code",
   "execution_count": null,
   "metadata": {},
   "outputs": [],
   "source": []
  }
 ],
 "metadata": {
  "interpreter": {
   "hash": "5df1eb4a1e6542f387629c32d5de3c12cfb42a69b08ccd1dde42d349eb96200c"
  },
  "kernelspec": {
   "display_name": "Python 3.8.12 64-bit ('3.8.12')",
   "language": "python",
   "name": "python3"
  },
  "language_info": {
   "codemirror_mode": {
    "name": "ipython",
    "version": 3
   },
   "file_extension": ".py",
   "mimetype": "text/x-python",
   "name": "python",
   "nbconvert_exporter": "python",
   "pygments_lexer": "ipython3",
   "version": "3.8.12"
  },
  "orig_nbformat": 4
 },
 "nbformat": 4,
 "nbformat_minor": 2
}
