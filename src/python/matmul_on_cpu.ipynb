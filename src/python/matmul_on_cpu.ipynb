{
 "cells": [
  {
   "cell_type": "code",
   "execution_count": 1,
   "metadata": {},
   "outputs": [],
   "source": [
    "import time\n",
    "import numpy as np\n",
    "import numba as nb\n",
    "\n",
    "import warnings\n",
    "warnings.filterwarnings('ignore')"
   ]
  },
  {
   "cell_type": "code",
   "execution_count": 2,
   "metadata": {},
   "outputs": [],
   "source": [
    "sizes = [256, 1024, 4096]\n",
    "sizes_small = [256, 1024]\n",
    "iterations = 10"
   ]
  },
  {
   "cell_type": "markdown",
   "metadata": {},
   "source": [
    "## pythonでの行列積速度"
   ]
  },
  {
   "cell_type": "code",
   "execution_count": 3,
   "metadata": {},
   "outputs": [],
   "source": [
    "def matmul(x, y):\n",
    "    out = []\n",
    "    for i in range(len(x)):\n",
    "        out_row = []\n",
    "        for j in range(len(y[0])):\n",
    "            out_elem = 0\n",
    "            for k in range(len(x[0])):\n",
    "                out_elem += x[i][k] * y[k][j]\n",
    "            out_row.append(out_elem)\n",
    "        out.append(out_row)\n",
    "    return out"
   ]
  },
  {
   "cell_type": "code",
   "execution_count": 4,
   "metadata": {},
   "outputs": [
    {
     "name": "stdout",
     "output_type": "stream",
     "text": [
      "行列サイズ = 256\n",
      "処理時間 = 1474.1198778152466\n",
      "行列サイズ = 1024\n",
      "処理時間 = 112160.70013046265\n"
     ]
    }
   ],
   "source": [
    "for size in sizes_small:\n",
    "    x = np.random.randn(size, size).astype(np.float32).tolist()\n",
    "    y = np.random.randn(size, size).astype(np.float32).tolist()\n",
    "\n",
    "    d_sec = 0\n",
    "    for i in range(iterations+1):\n",
    "        start = time.time()\n",
    "        res = matmul(x, y)\n",
    "        end = time.time()\n",
    "        if i != 0:\n",
    "            d_sec += (end - start)\n",
    "\n",
    "    d_sec /= iterations\n",
    "    print(f\"行列サイズ = {size}\")\n",
    "    print(f\"処理時間 = {d_sec*1000}\")"
   ]
  },
  {
   "cell_type": "code",
   "execution_count": 5,
   "metadata": {},
   "outputs": [],
   "source": [
    "# for size in sizes_small:\n",
    "#     x = np.random.randn(size, size).astype(np.float32)\n",
    "#     y = np.random.randn(size, size).astype(np.float32)\n",
    "\n",
    "#     d_sec = 0\n",
    "#     for i in range(iterations+1):\n",
    "#         start = time.time()\n",
    "#         res = matmul(x, y)\n",
    "#         end = time.time()\n",
    "#         if i != 0:\n",
    "#             d_sec += (end - start)\n",
    "\n",
    "#     d_sec /= iterations\n",
    "#     print(f\"行列サイズ = {size}\")\n",
    "#     print(f\"処理時間 = {d_sec*1000}\")"
   ]
  },
  {
   "cell_type": "markdown",
   "metadata": {},
   "source": [
    "## numpy (intel MKL)での行列積速度"
   ]
  },
  {
   "cell_type": "code",
   "execution_count": 6,
   "metadata": {},
   "outputs": [],
   "source": [
    "# np.show_config()"
   ]
  },
  {
   "cell_type": "code",
   "execution_count": 7,
   "metadata": {},
   "outputs": [],
   "source": [
    "# for size in sizes:\n",
    "#     x = np.random.randn(size, size).astype(np.float32)\n",
    "#     y = np.random.randn(size, size).astype(np.float32)\n",
    "\n",
    "#     d_sec = 0\n",
    "#     for i in range(iterations):\n",
    "#         start = time.time()\n",
    "#         res = np.dot(x, y)\n",
    "#         end = time.time()\n",
    "#         d_sec += (end - start)\n",
    "\n",
    "#     d_sec /= iterations\n",
    "#     print(f\"行列サイズ = {size}\")\n",
    "#     print(f\"処理時間 = {d_sec*1000}\")\n"
   ]
  },
  {
   "cell_type": "markdown",
   "metadata": {},
   "source": [
    "## numba (jit)"
   ]
  },
  {
   "cell_type": "code",
   "execution_count": 8,
   "metadata": {},
   "outputs": [],
   "source": [
    "matmul_njit = nb.njit(matmul)"
   ]
  },
  {
   "cell_type": "code",
   "execution_count": 9,
   "metadata": {},
   "outputs": [
    {
     "name": "stdout",
     "output_type": "stream",
     "text": [
      "行列サイズ = 256\n",
      "処理時間 = 18.80359649658203\n",
      "行列サイズ = 1024\n",
      "処理時間 = 1348.9588499069214\n",
      "行列サイズ = 4096\n",
      "処理時間 = 409613.67185115814\n"
     ]
    }
   ],
   "source": [
    "for size in sizes:\n",
    "    x = np.random.randn(size, size).astype(np.float32)\n",
    "    y = np.random.randn(size, size).astype(np.float32)\n",
    "\n",
    "    ## warmup\n",
    "    matmul_njit(x, y)\n",
    "\n",
    "    d_sec = 0\n",
    "    for i in range(iterations):\n",
    "        start = time.time()\n",
    "        res = matmul_njit(x, y)\n",
    "        end = time.time()\n",
    "        d_sec += (end - start)\n",
    "\n",
    "    d_sec /= iterations\n",
    "    print(f\"行列サイズ = {size}\")\n",
    "    print(f\"処理時間 = {d_sec*1000}\")"
   ]
  },
  {
   "cell_type": "markdown",
   "metadata": {},
   "source": [
    "## numpy (openblas)での行列積速度"
   ]
  },
  {
   "cell_type": "code",
   "execution_count": 10,
   "metadata": {},
   "outputs": [],
   "source": [
    "import time\n",
    "import numpy as np\n",
    "\n",
    "import warnings\n",
    "warnings.filterwarnings('ignore')"
   ]
  },
  {
   "cell_type": "code",
   "execution_count": 11,
   "metadata": {},
   "outputs": [],
   "source": [
    "sizes = [256, 1024, 4096]\n",
    "iterations = 10"
   ]
  },
  {
   "cell_type": "code",
   "execution_count": 12,
   "metadata": {},
   "outputs": [
    {
     "name": "stdout",
     "output_type": "stream",
     "text": [
      "blas_mkl_info:\n",
      "  NOT AVAILABLE\n",
      "blis_info:\n",
      "  NOT AVAILABLE\n",
      "openblas_info:\n",
      "    libraries = ['openblas', 'openblas']\n",
      "    library_dirs = ['/usr/local/lib']\n",
      "    language = c\n",
      "    define_macros = [('HAVE_CBLAS', None)]\n",
      "    runtime_library_dirs = ['/usr/local/lib']\n",
      "blas_opt_info:\n",
      "    libraries = ['openblas', 'openblas']\n",
      "    library_dirs = ['/usr/local/lib']\n",
      "    language = c\n",
      "    define_macros = [('HAVE_CBLAS', None)]\n",
      "    runtime_library_dirs = ['/usr/local/lib']\n",
      "lapack_mkl_info:\n",
      "  NOT AVAILABLE\n",
      "openblas_lapack_info:\n",
      "    libraries = ['openblas', 'openblas']\n",
      "    library_dirs = ['/usr/local/lib']\n",
      "    language = c\n",
      "    define_macros = [('HAVE_CBLAS', None)]\n",
      "    runtime_library_dirs = ['/usr/local/lib']\n",
      "lapack_opt_info:\n",
      "    libraries = ['openblas', 'openblas']\n",
      "    library_dirs = ['/usr/local/lib']\n",
      "    language = c\n",
      "    define_macros = [('HAVE_CBLAS', None)]\n",
      "    runtime_library_dirs = ['/usr/local/lib']\n",
      "Supported SIMD extensions in this NumPy install:\n",
      "    baseline = SSE,SSE2,SSE3\n",
      "    found = SSSE3,SSE41,POPCNT,SSE42,AVX,F16C,FMA3,AVX2\n",
      "    not found = AVX512F,AVX512CD,AVX512_KNL,AVX512_KNM,AVX512_SKX,AVX512_CLX,AVX512_CNL,AVX512_ICL\n"
     ]
    }
   ],
   "source": [
    "np.show_config()"
   ]
  },
  {
   "cell_type": "code",
   "execution_count": 14,
   "metadata": {},
   "outputs": [
    {
     "name": "stdout",
     "output_type": "stream",
     "text": [
      "行列サイズ = 256\n",
      "処理時間 = 0.08473396301269531\n",
      "行列サイズ = 1024\n",
      "処理時間 = 2.4017333984375\n",
      "行列サイズ = 4096\n",
      "処理時間 = 162.8296136856079\n"
     ]
    }
   ],
   "source": [
    "for size in sizes:\n",
    "    x = np.random.randn(size, size).astype(np.float32)\n",
    "    y = np.random.randn(size, size).astype(np.float32)\n",
    "\n",
    "    d_sec = 0\n",
    "    for i in range(iterations):\n",
    "        start = time.time()\n",
    "        res = np.dot(x, y)\n",
    "        end = time.time()\n",
    "        d_sec += (end - start)\n",
    "\n",
    "    d_sec /= iterations\n",
    "    print(f\"行列サイズ = {size}\")\n",
    "    print(f\"処理時間 = {d_sec*1000}\")"
   ]
  },
  {
   "cell_type": "markdown",
   "metadata": {},
   "source": []
  }
 ],
 "metadata": {
  "interpreter": {
   "hash": "5df1eb4a1e6542f387629c32d5de3c12cfb42a69b08ccd1dde42d349eb96200c"
  },
  "kernelspec": {
   "display_name": "Python 3.8.12 64-bit ('3.8.12')",
   "language": "python",
   "name": "python3"
  },
  "language_info": {
   "codemirror_mode": {
    "name": "ipython",
    "version": 3
   },
   "file_extension": ".py",
   "mimetype": "text/x-python",
   "name": "python",
   "nbconvert_exporter": "python",
   "pygments_lexer": "ipython3",
   "version": "3.8.12"
  },
  "orig_nbformat": 4
 },
 "nbformat": 4,
 "nbformat_minor": 2
}
