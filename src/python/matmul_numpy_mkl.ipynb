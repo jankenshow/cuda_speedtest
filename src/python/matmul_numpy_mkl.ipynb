{
 "cells": [
  {
   "cell_type": "code",
   "execution_count": 1,
   "metadata": {},
   "outputs": [],
   "source": [
    "import time\n",
    "import numpy as np\n",
    "import numba as nb\n",
    "import ctypes"
   ]
  },
  {
   "cell_type": "code",
   "execution_count": 2,
   "metadata": {},
   "outputs": [
    {
     "name": "stdout",
     "output_type": "stream",
     "text": [
      "8\n"
     ]
    }
   ],
   "source": [
    "mkl_rt = ctypes.CDLL('libmkl_rt.so')\n",
    "print(mkl_rt.mkl_get_max_threads())\n",
    "# mkl_rt.mkl_set_dynamic(1)"
   ]
  },
  {
   "cell_type": "code",
   "execution_count": 3,
   "metadata": {},
   "outputs": [],
   "source": [
    "sizes = [256, 1024, 4096]\n",
    "iterations = 10"
   ]
  },
  {
   "cell_type": "markdown",
   "metadata": {},
   "source": [
    "## numpy (intel MKL)での行列積速度"
   ]
  },
  {
   "cell_type": "code",
   "execution_count": 4,
   "metadata": {},
   "outputs": [
    {
     "name": "stdout",
     "output_type": "stream",
     "text": [
      "blas_mkl_info:\n",
      "    libraries = ['mkl_rt', 'pthread']\n",
      "    library_dirs = ['/opt/intel/mkl/lib/intel64']\n",
      "    define_macros = [('SCIPY_MKL_H', None), ('HAVE_CBLAS', None)]\n",
      "    include_dirs = ['/opt/intel/mkl/include']\n",
      "blas_opt_info:\n",
      "    libraries = ['mkl_rt', 'pthread']\n",
      "    library_dirs = ['/opt/intel/mkl/lib/intel64']\n",
      "    define_macros = [('SCIPY_MKL_H', None), ('HAVE_CBLAS', None)]\n",
      "    include_dirs = ['/opt/intel/mkl/include']\n",
      "lapack_mkl_info:\n",
      "    libraries = ['mkl_rt', 'pthread']\n",
      "    library_dirs = ['/opt/intel/mkl/lib/intel64']\n",
      "    define_macros = [('SCIPY_MKL_H', None), ('HAVE_CBLAS', None)]\n",
      "    include_dirs = ['/opt/intel/mkl/include']\n",
      "lapack_opt_info:\n",
      "    libraries = ['mkl_rt', 'pthread']\n",
      "    library_dirs = ['/opt/intel/mkl/lib/intel64']\n",
      "    define_macros = [('SCIPY_MKL_H', None), ('HAVE_CBLAS', None)]\n",
      "    include_dirs = ['/opt/intel/mkl/include']\n",
      "Supported SIMD extensions in this NumPy install:\n",
      "    baseline = SSE,SSE2,SSE3\n",
      "    found = SSSE3,SSE41,POPCNT,SSE42,AVX,F16C,FMA3,AVX2\n",
      "    not found = AVX512F,AVX512CD,AVX512_KNL,AVX512_KNM,AVX512_SKX,AVX512_CNL\n"
     ]
    }
   ],
   "source": [
    "np.show_config()"
   ]
  },
  {
   "cell_type": "code",
   "execution_count": 5,
   "metadata": {},
   "outputs": [
    {
     "name": "stdout",
     "output_type": "stream",
     "text": [
      "行列サイズ = 256\n",
      "処理時間 = 0.09980201721191406\n",
      "行列サイズ = 1024\n",
      "処理時間 = 2.5465011596679688\n",
      "行列サイズ = 4096\n",
      "処理時間 = 183.89999866485596\n"
     ]
    }
   ],
   "source": [
    "for size in sizes:\n",
    "    x = np.random.randn(size, size).astype(np.float32)\n",
    "    y = np.random.randn(size, size).astype(np.float32)\n",
    "\n",
    "    d_sec = 0\n",
    "    for i in range(iterations):\n",
    "        start = time.time()\n",
    "        res = np.dot(x, y)\n",
    "        end = time.time()\n",
    "        d_sec += (end - start)\n",
    "\n",
    "    d_sec /= iterations\n",
    "    print(f\"行列サイズ = {size}\")\n",
    "    print(f\"処理時間 = {d_sec*1000}\")\n"
   ]
  },
  {
   "cell_type": "code",
   "execution_count": 6,
   "metadata": {},
   "outputs": [
    {
     "name": "stdout",
     "output_type": "stream",
     "text": [
      "1\n"
     ]
    }
   ],
   "source": [
    "mkl_rt.mkl_set_num_threads(ctypes.byref(ctypes.c_int(1)))\n",
    "print(mkl_rt.mkl_get_max_threads())"
   ]
  },
  {
   "cell_type": "code",
   "execution_count": 7,
   "metadata": {},
   "outputs": [
    {
     "name": "stdout",
     "output_type": "stream",
     "text": [
      "行列サイズ = 256\n",
      "処理時間 = 0.7210969924926758\n",
      "行列サイズ = 1024\n",
      "処理時間 = 15.331220626831055\n",
      "行列サイズ = 4096\n",
      "処理時間 = 943.1403160095215\n"
     ]
    }
   ],
   "source": [
    "for size in sizes:\n",
    "    x = np.random.randn(size, size).astype(np.float32)\n",
    "    y = np.random.randn(size, size).astype(np.float32)\n",
    "\n",
    "    d_sec = 0\n",
    "    for i in range(iterations):\n",
    "        start = time.time()\n",
    "        res = np.dot(x, y)\n",
    "        end = time.time()\n",
    "        d_sec += (end - start)\n",
    "\n",
    "    d_sec /= iterations\n",
    "    print(f\"行列サイズ = {size}\")\n",
    "    print(f\"処理時間 = {d_sec*1000}\")"
   ]
  },
  {
   "cell_type": "code",
   "execution_count": null,
   "metadata": {},
   "outputs": [],
   "source": []
  }
 ],
 "metadata": {
  "interpreter": {
   "hash": "5df1eb4a1e6542f387629c32d5de3c12cfb42a69b08ccd1dde42d349eb96200c"
  },
  "kernelspec": {
   "display_name": "Python 3.8.12 64-bit ('3.8.12')",
   "language": "python",
   "name": "python3"
  },
  "language_info": {
   "codemirror_mode": {
    "name": "ipython",
    "version": 3
   },
   "file_extension": ".py",
   "mimetype": "text/x-python",
   "name": "python",
   "nbconvert_exporter": "python",
   "pygments_lexer": "ipython3",
   "version": "3.8.12"
  },
  "orig_nbformat": 4
 },
 "nbformat": 4,
 "nbformat_minor": 2
}
